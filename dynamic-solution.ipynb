{
 "cells": [
  {
   "cell_type": "markdown",
   "source": [
    "A naive recursive implementation of 0-1 Knapsack Problem"
   ],
   "metadata": {
    "collapsed": false
   }
  },
  {
   "cell_type": "code",
   "execution_count": 69,
   "outputs": [],
   "source": [
    "# SETUP\n",
    "import pylab\n",
    "import numpy as np\n",
    "\n",
    "from knapsack_algorithms import knapsack_dynamic as dynamic\n",
    "\n",
    "# Runs knapsack_dynamic with random values.\n",
    "# N - amount of elements\n",
    "# V - max possible value\n",
    "# W - knapsack capacity and max weight of an element\n",
    "def random_dynamic(N, V, W):\n",
    "    val = np.random.randint(0, V, N)\n",
    "    wt = np.random.randint(0, W, N)\n",
    "    n = len(val)\n",
    "    dynamic.knapsack_dynamic(W, wt, val, n)"
   ],
   "metadata": {
    "collapsed": false,
    "pycharm": {
     "name": "#%%\n"
    }
   }
  },
  {
   "cell_type": "code",
   "execution_count": 118,
   "outputs": [
    {
     "name": "stdout",
     "output_type": "stream",
     "text": [
      "5.37 ms ± 0 ns per loop (mean ± std. dev. of 1 run, 1 loop each)\n",
      "25.6 ms ± 0 ns per loop (mean ± std. dev. of 1 run, 1 loop each)\n",
      "53 ms ± 0 ns per loop (mean ± std. dev. of 1 run, 1 loop each)\n",
      "64.3 ms ± 0 ns per loop (mean ± std. dev. of 1 run, 1 loop each)\n",
      "90.2 ms ± 0 ns per loop (mean ± std. dev. of 1 run, 1 loop each)\n",
      "142 ms ± 0 ns per loop (mean ± std. dev. of 1 run, 1 loop each)\n",
      "162 ms ± 0 ns per loop (mean ± std. dev. of 1 run, 1 loop each)\n",
      "182 ms ± 0 ns per loop (mean ± std. dev. of 1 run, 1 loop each)\n",
      "192 ms ± 0 ns per loop (mean ± std. dev. of 1 run, 1 loop each)\n",
      "209 ms ± 0 ns per loop (mean ± std. dev. of 1 run, 1 loop each)\n",
      "280 ms ± 0 ns per loop (mean ± std. dev. of 1 run, 1 loop each)\n",
      "324 ms ± 0 ns per loop (mean ± std. dev. of 1 run, 1 loop each)\n",
      "257 ms ± 0 ns per loop (mean ± std. dev. of 1 run, 1 loop each)\n",
      "408 ms ± 0 ns per loop (mean ± std. dev. of 1 run, 1 loop each)\n",
      "431 ms ± 0 ns per loop (mean ± std. dev. of 1 run, 1 loop each)\n",
      "387 ms ± 0 ns per loop (mean ± std. dev. of 1 run, 1 loop each)\n",
      "298 ms ± 0 ns per loop (mean ± std. dev. of 1 run, 1 loop each)\n",
      "291 ms ± 0 ns per loop (mean ± std. dev. of 1 run, 1 loop each)\n",
      "343 ms ± 0 ns per loop (mean ± std. dev. of 1 run, 1 loop each)\n",
      "357 ms ± 0 ns per loop (mean ± std. dev. of 1 run, 1 loop each)\n",
      "349 ms ± 0 ns per loop (mean ± std. dev. of 1 run, 1 loop each)\n",
      "355 ms ± 0 ns per loop (mean ± std. dev. of 1 run, 1 loop each)\n",
      "350 ms ± 0 ns per loop (mean ± std. dev. of 1 run, 1 loop each)\n",
      "376 ms ± 0 ns per loop (mean ± std. dev. of 1 run, 1 loop each)\n",
      "376 ms ± 0 ns per loop (mean ± std. dev. of 1 run, 1 loop each)\n",
      "395 ms ± 0 ns per loop (mean ± std. dev. of 1 run, 1 loop each)\n",
      "406 ms ± 0 ns per loop (mean ± std. dev. of 1 run, 1 loop each)\n",
      "422 ms ± 0 ns per loop (mean ± std. dev. of 1 run, 1 loop each)\n",
      "436 ms ± 0 ns per loop (mean ± std. dev. of 1 run, 1 loop each)\n",
      "465 ms ± 0 ns per loop (mean ± std. dev. of 1 run, 1 loop each)\n",
      "475 ms ± 0 ns per loop (mean ± std. dev. of 1 run, 1 loop each)\n",
      "549 ms ± 0 ns per loop (mean ± std. dev. of 1 run, 1 loop each)\n",
      "513 ms ± 0 ns per loop (mean ± std. dev. of 1 run, 1 loop each)\n",
      "528 ms ± 0 ns per loop (mean ± std. dev. of 1 run, 1 loop each)\n",
      "551 ms ± 0 ns per loop (mean ± std. dev. of 1 run, 1 loop each)\n",
      "585 ms ± 0 ns per loop (mean ± std. dev. of 1 run, 1 loop each)\n",
      "613 ms ± 0 ns per loop (mean ± std. dev. of 1 run, 1 loop each)\n",
      "620 ms ± 0 ns per loop (mean ± std. dev. of 1 run, 1 loop each)\n",
      "612 ms ± 0 ns per loop (mean ± std. dev. of 1 run, 1 loop each)\n",
      "591 ms ± 0 ns per loop (mean ± std. dev. of 1 run, 1 loop each)\n",
      "624 ms ± 0 ns per loop (mean ± std. dev. of 1 run, 1 loop each)\n",
      "696 ms ± 0 ns per loop (mean ± std. dev. of 1 run, 1 loop each)\n",
      "662 ms ± 0 ns per loop (mean ± std. dev. of 1 run, 1 loop each)\n",
      "702 ms ± 0 ns per loop (mean ± std. dev. of 1 run, 1 loop each)\n",
      "742 ms ± 0 ns per loop (mean ± std. dev. of 1 run, 1 loop each)\n",
      "751 ms ± 0 ns per loop (mean ± std. dev. of 1 run, 1 loop each)\n",
      "737 ms ± 0 ns per loop (mean ± std. dev. of 1 run, 1 loop each)\n",
      "739 ms ± 0 ns per loop (mean ± std. dev. of 1 run, 1 loop each)\n",
      "766 ms ± 0 ns per loop (mean ± std. dev. of 1 run, 1 loop each)\n",
      "846 ms ± 0 ns per loop (mean ± std. dev. of 1 run, 1 loop each)\n",
      "21.4 s ± 0 ns per loop (mean ± std. dev. of 1 run, 1 loop each)\n",
      "TEST 1 took 21.4 s ± 0 ns per loop (mean ± std. dev. of 1 run, 1 loop each)\n"
     ]
    },
    {
     "data": {
      "text/plain": "<Figure size 432x288 with 1 Axes>",
      "image/png": "[encoded data removed]"
     },
     "metadata": {
      "needs_background": "light"
     },
     "output_type": "display_data"
    }
   ],
   "source": [
    "# TEST 1\n",
    "# - increasing elements\n",
    "# - fix capacity\n",
    "# - fix max possible value\n",
    "# Expectations: Should increase in linear time because only n is growing in O(nW)\n",
    "def run_test01():\n",
    "    x = []\n",
    "    y = []\n",
    "    step = 1000\n",
    "    start = 1000\n",
    "    stop = 50000\n",
    "    V = 20\n",
    "    W = 20\n",
    "    for N in range(start, stop, step):\n",
    "        # N - amount of elements\n",
    "        # V - max possible value\n",
    "        # W - knapsack capacity and max weight of an element\n",
    "        result = %timeit -n1 -r1 -o random_dynamic(N, V, W)\n",
    "        y.append(result.average)\n",
    "        x.append(N)\n",
    "\n",
    "    pylab.xlabel('Amount of elements')\n",
    "    pylab.ylabel('Duration (seconds)')\n",
    "    pylab.title('Test 1 with increasing amount of elements')\n",
    "    pylab.plot(x, y)\n",
    "\n",
    "\n",
    "test = %timeit -n1 -r1 -o run_test01()\n",
    "print(\"TEST 1 took {}\".format(test))"
   ],
   "metadata": {
    "collapsed": false,
    "pycharm": {
     "name": "#%%\n"
    }
   }
  },
  {
   "cell_type": "code",
   "execution_count": 117,
   "outputs": [
    {
     "name": "stdout",
     "output_type": "stream",
     "text": [
      "5.49 ms ± 0 ns per loop (mean ± std. dev. of 1 run, 1 loop each)\n",
      "28 ms ± 0 ns per loop (mean ± std. dev. of 1 run, 1 loop each)\n",
      "35.8 ms ± 0 ns per loop (mean ± std. dev. of 1 run, 1 loop each)\n",
      "70.1 ms ± 0 ns per loop (mean ± std. dev. of 1 run, 1 loop each)\n",
      "72.6 ms ± 0 ns per loop (mean ± std. dev. of 1 run, 1 loop each)\n",
      "73.3 ms ± 0 ns per loop (mean ± std. dev. of 1 run, 1 loop each)\n",
      "77.9 ms ± 0 ns per loop (mean ± std. dev. of 1 run, 1 loop each)\n",
      "102 ms ± 0 ns per loop (mean ± std. dev. of 1 run, 1 loop each)\n",
      "107 ms ± 0 ns per loop (mean ± std. dev. of 1 run, 1 loop each)\n",
      "132 ms ± 0 ns per loop (mean ± std. dev. of 1 run, 1 loop each)\n",
      "152 ms ± 0 ns per loop (mean ± std. dev. of 1 run, 1 loop each)\n",
      "162 ms ± 0 ns per loop (mean ± std. dev. of 1 run, 1 loop each)\n",
      "146 ms ± 0 ns per loop (mean ± std. dev. of 1 run, 1 loop each)\n",
      "191 ms ± 0 ns per loop (mean ± std. dev. of 1 run, 1 loop each)\n",
      "202 ms ± 0 ns per loop (mean ± std. dev. of 1 run, 1 loop each)\n",
      "236 ms ± 0 ns per loop (mean ± std. dev. of 1 run, 1 loop each)\n",
      "212 ms ± 0 ns per loop (mean ± std. dev. of 1 run, 1 loop each)\n",
      "274 ms ± 0 ns per loop (mean ± std. dev. of 1 run, 1 loop each)\n",
      "275 ms ± 0 ns per loop (mean ± std. dev. of 1 run, 1 loop each)\n",
      "274 ms ± 0 ns per loop (mean ± std. dev. of 1 run, 1 loop each)\n",
      "266 ms ± 0 ns per loop (mean ± std. dev. of 1 run, 1 loop each)\n",
      "290 ms ± 0 ns per loop (mean ± std. dev. of 1 run, 1 loop each)\n",
      "324 ms ± 0 ns per loop (mean ± std. dev. of 1 run, 1 loop each)\n",
      "319 ms ± 0 ns per loop (mean ± std. dev. of 1 run, 1 loop each)\n",
      "332 ms ± 0 ns per loop (mean ± std. dev. of 1 run, 1 loop each)\n",
      "345 ms ± 0 ns per loop (mean ± std. dev. of 1 run, 1 loop each)\n",
      "321 ms ± 0 ns per loop (mean ± std. dev. of 1 run, 1 loop each)\n",
      "338 ms ± 0 ns per loop (mean ± std. dev. of 1 run, 1 loop each)\n",
      "375 ms ± 0 ns per loop (mean ± std. dev. of 1 run, 1 loop each)\n",
      "380 ms ± 0 ns per loop (mean ± std. dev. of 1 run, 1 loop each)\n",
      "376 ms ± 0 ns per loop (mean ± std. dev. of 1 run, 1 loop each)\n",
      "412 ms ± 0 ns per loop (mean ± std. dev. of 1 run, 1 loop each)\n",
      "466 ms ± 0 ns per loop (mean ± std. dev. of 1 run, 1 loop each)\n",
      "506 ms ± 0 ns per loop (mean ± std. dev. of 1 run, 1 loop each)\n",
      "476 ms ± 0 ns per loop (mean ± std. dev. of 1 run, 1 loop each)\n",
      "450 ms ± 0 ns per loop (mean ± std. dev. of 1 run, 1 loop each)\n",
      "499 ms ± 0 ns per loop (mean ± std. dev. of 1 run, 1 loop each)\n",
      "522 ms ± 0 ns per loop (mean ± std. dev. of 1 run, 1 loop each)\n",
      "532 ms ± 0 ns per loop (mean ± std. dev. of 1 run, 1 loop each)\n",
      "535 ms ± 0 ns per loop (mean ± std. dev. of 1 run, 1 loop each)\n",
      "518 ms ± 0 ns per loop (mean ± std. dev. of 1 run, 1 loop each)\n",
      "611 ms ± 0 ns per loop (mean ± std. dev. of 1 run, 1 loop each)\n",
      "625 ms ± 0 ns per loop (mean ± std. dev. of 1 run, 1 loop each)\n",
      "633 ms ± 0 ns per loop (mean ± std. dev. of 1 run, 1 loop each)\n",
      "645 ms ± 0 ns per loop (mean ± std. dev. of 1 run, 1 loop each)\n",
      "620 ms ± 0 ns per loop (mean ± std. dev. of 1 run, 1 loop each)\n",
      "710 ms ± 0 ns per loop (mean ± std. dev. of 1 run, 1 loop each)\n",
      "658 ms ± 0 ns per loop (mean ± std. dev. of 1 run, 1 loop each)\n",
      "735 ms ± 0 ns per loop (mean ± std. dev. of 1 run, 1 loop each)\n",
      "734 ms ± 0 ns per loop (mean ± std. dev. of 1 run, 1 loop each)\n",
      "17.5 s ± 0 ns per loop (mean ± std. dev. of 1 run, 1 loop each)\n",
      "TEST 2 took 17.45139506200212\n"
     ]
    },
    {
     "data": {
      "text/plain": "<Figure size 432x288 with 1 Axes>",
      "image/png": "[encoded data removed]"
     },
     "metadata": {
      "needs_background": "light"
     },
     "output_type": "display_data"
    }
   ],
   "source": [
    "# TEST 2\n",
    "# - fix elements\n",
    "# - increasing capacity\n",
    "# - fix max possible value\n",
    "# Expectations: Should increase in linear time because only W is growing in O(nW)\n",
    "def run_test02():\n",
    "    x = []\n",
    "    y = []\n",
    "    step = 1000\n",
    "    start = 1000\n",
    "    stop = 50000\n",
    "    N = 20\n",
    "    V = 20\n",
    "    for W in range(start, stop, step):  #\n",
    "        # N - amount of elements\n",
    "        # V - max possible value\n",
    "        # W - knapsack capacity and max weight of an element\n",
    "        result = %timeit -n1 -r1 -o random_dynamic(N, V, W)\n",
    "        y.append(result.average)\n",
    "        x.append(W)\n",
    "\n",
    "    pylab.xlabel('Knapsack capacity')\n",
    "    pylab.ylabel('Duration (seconds)')\n",
    "    pylab.title('Test 2 with increasing W')\n",
    "    pylab.plot(x, y)\n",
    "\n",
    "test = %timeit -n1 -r1 -o run_test02()\n",
    "print(\"TEST 2 took {}\".format(test.average))"
   ],
   "metadata": {
    "collapsed": false,
    "pycharm": {
     "name": "#%%\n"
    }
   }
  },
  {
   "cell_type": "code",
   "execution_count": 119,
   "outputs": [
    {
     "name": "stdout",
     "output_type": "stream",
     "text": [
      "1.04 s ± 0 ns per loop (mean ± std. dev. of 1 run, 1 loop each)\n",
      "3.26 s ± 0 ns per loop (mean ± std. dev. of 1 run, 1 loop each)\n",
      "6.77 s ± 0 ns per loop (mean ± std. dev. of 1 run, 1 loop each)\n",
      "11.4 s ± 0 ns per loop (mean ± std. dev. of 1 run, 1 loop each)\n",
      "18.4 s ± 0 ns per loop (mean ± std. dev. of 1 run, 1 loop each)\n",
      "26.2 s ± 0 ns per loop (mean ± std. dev. of 1 run, 1 loop each)\n",
      "36.1 s ± 0 ns per loop (mean ± std. dev. of 1 run, 1 loop each)\n",
      "45.8 s ± 0 ns per loop (mean ± std. dev. of 1 run, 1 loop each)\n",
      "1min ± 0 ns per loop (mean ± std. dev. of 1 run, 1 loop each)\n",
      "3min 29s ± 0 ns per loop (mean ± std. dev. of 1 run, 1 loop each)\n",
      "TEST 3 took 209.55676707399834\n"
     ]
    },
    {
     "data": {
      "text/plain": "<Figure size 432x288 with 1 Axes>",
      "image/png": "[encoded data removed]"
     },
     "metadata": {
      "needs_background": "light"
     },
     "output_type": "display_data"
    }
   ],
   "source": [
    "# TEST 3\n",
    "# - increasing elements\n",
    "# - increasing capacity\n",
    "# - fix max possible value\n",
    "# Expectations: Should increase in n^2 because n and W are growing in O(nW)\n",
    "def run_test03():\n",
    "    x = []\n",
    "    y = []\n",
    "    step = 1000\n",
    "    start = 1000\n",
    "    stop = 10000\n",
    "    V = 20\n",
    "    for N in range(start, stop, step):  #\n",
    "        # N - amount of elements\n",
    "        # V - max possible value\n",
    "        # W - knapsack capacity and max weight of an element\n",
    "        W = N # make W increase like N\n",
    "        result = %timeit -n1 -r1 -o random_dynamic(N, V, W)\n",
    "        y.append(result.average)\n",
    "        x.append(W)\n",
    "\n",
    "    pylab.xlabel('Amount of elements and weights (n=W)')\n",
    "    pylab.ylabel('Duration (seconds)')\n",
    "    pylab.title('Test 3 with increasing n and W=n')\n",
    "    pylab.plot(x, y)\n",
    "\n",
    "\n",
    "test = %timeit -n1 -r1 -o run_test03()\n",
    "print(\"TEST 3 took {}\".format(test.average))"
   ],
   "metadata": {
    "collapsed": false,
    "pycharm": {
     "name": "#%%\n"
    }
   }
  },
  {
   "cell_type": "code",
   "execution_count": null,
   "outputs": [],
   "source": [],
   "metadata": {
    "collapsed": false,
    "pycharm": {
     "name": "#%%\n"
    }
   }
  }
 ],
 "metadata": {
  "kernelspec": {
   "display_name": "Python 3",
   "language": "python",
   "name": "python3"
  },
  "language_info": {
   "codemirror_mode": {
    "name": "ipython",
    "version": 2
   },
   "file_extension": ".py",
   "mimetype": "text/x-python",
   "name": "python",
   "nbconvert_exporter": "python",
   "pygments_lexer": "ipython2",
   "version": "2.7.6"
  }
 },
 "nbformat": 4,
 "nbformat_minor": 0
}